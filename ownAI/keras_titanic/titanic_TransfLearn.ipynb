{
 "cells": [
  {
   "source": [
    "# Titanic survival classification problem\n",
    "- Train a RandForest classifier using the output of the two middle NN layers of a DL model."
   ],
   "cell_type": "markdown",
   "metadata": {}
  },
  {
   "source": [
    "## Data processing"
   ],
   "cell_type": "markdown",
   "metadata": {}
  },
  {
   "cell_type": "code",
   "execution_count": 9,
   "metadata": {
    "id": "a6HRX3PPd69L"
   },
   "outputs": [],
   "source": [
    "import seaborn as sns\n",
    "import numpy as np\n",
    "import pandas as pd\n",
    "import sklearn.model_selection\n",
    "from keras.models import Model, load_model\n",
    "from matplotlib import pyplot as plt\n",
    "from sklearn.ensemble import RandomForestClassifier\n",
    "from sklearn.metrics import roc_curve, roc_auc_score, precision_score, accuracy_score,recall_score, auc, confusion_matrix\n",
    "from sklearn.preprocessing import LabelEncoder\n",
    "\n",
    "label_encoder = LabelEncoder()"
   ]
  },
  {
   "cell_type": "code",
   "execution_count": 10,
   "metadata": {},
   "outputs": [
    {
     "output_type": "execute_result",
     "data": {
      "text/plain": [
       "     survived  pclass     sex   age  sibsp  parch     fare embarked   class  \\\n",
       "114         0       3  female  17.0      0      0  14.4583        C   Third   \n",
       "874         1       2  female  28.0      1      0  24.0000        C  Second   \n",
       "76          0       3    male   NaN      0      0   7.8958        S   Third   \n",
       "876         0       3    male  20.0      0      0   9.8458        S   Third   \n",
       "674         0       2    male   NaN      0      0   0.0000        S  Second   \n",
       "\n",
       "       who  adult_male deck  embark_town alive  alone  \n",
       "114  woman       False  NaN    Cherbourg    no   True  \n",
       "874  woman       False  NaN    Cherbourg   yes  False  \n",
       "76     man        True  NaN  Southampton    no   True  \n",
       "876    man        True  NaN  Southampton    no   True  \n",
       "674    man        True  NaN  Southampton    no   True  "
      ],
      "text/html": "<div>\n<style scoped>\n    .dataframe tbody tr th:only-of-type {\n        vertical-align: middle;\n    }\n\n    .dataframe tbody tr th {\n        vertical-align: top;\n    }\n\n    .dataframe thead th {\n        text-align: right;\n    }\n</style>\n<table border=\"1\" class=\"dataframe\">\n  <thead>\n    <tr style=\"text-align: right;\">\n      <th></th>\n      <th>survived</th>\n      <th>pclass</th>\n      <th>sex</th>\n      <th>age</th>\n      <th>sibsp</th>\n      <th>parch</th>\n      <th>fare</th>\n      <th>embarked</th>\n      <th>class</th>\n      <th>who</th>\n      <th>adult_male</th>\n      <th>deck</th>\n      <th>embark_town</th>\n      <th>alive</th>\n      <th>alone</th>\n    </tr>\n  </thead>\n  <tbody>\n    <tr>\n      <th>114</th>\n      <td>0</td>\n      <td>3</td>\n      <td>female</td>\n      <td>17.0</td>\n      <td>0</td>\n      <td>0</td>\n      <td>14.4583</td>\n      <td>C</td>\n      <td>Third</td>\n      <td>woman</td>\n      <td>False</td>\n      <td>NaN</td>\n      <td>Cherbourg</td>\n      <td>no</td>\n      <td>True</td>\n    </tr>\n    <tr>\n      <th>874</th>\n      <td>1</td>\n      <td>2</td>\n      <td>female</td>\n      <td>28.0</td>\n      <td>1</td>\n      <td>0</td>\n      <td>24.0000</td>\n      <td>C</td>\n      <td>Second</td>\n      <td>woman</td>\n      <td>False</td>\n      <td>NaN</td>\n      <td>Cherbourg</td>\n      <td>yes</td>\n      <td>False</td>\n    </tr>\n    <tr>\n      <th>76</th>\n      <td>0</td>\n      <td>3</td>\n      <td>male</td>\n      <td>NaN</td>\n      <td>0</td>\n      <td>0</td>\n      <td>7.8958</td>\n      <td>S</td>\n      <td>Third</td>\n      <td>man</td>\n      <td>True</td>\n      <td>NaN</td>\n      <td>Southampton</td>\n      <td>no</td>\n      <td>True</td>\n    </tr>\n    <tr>\n      <th>876</th>\n      <td>0</td>\n      <td>3</td>\n      <td>male</td>\n      <td>20.0</td>\n      <td>0</td>\n      <td>0</td>\n      <td>9.8458</td>\n      <td>S</td>\n      <td>Third</td>\n      <td>man</td>\n      <td>True</td>\n      <td>NaN</td>\n      <td>Southampton</td>\n      <td>no</td>\n      <td>True</td>\n    </tr>\n    <tr>\n      <th>674</th>\n      <td>0</td>\n      <td>2</td>\n      <td>male</td>\n      <td>NaN</td>\n      <td>0</td>\n      <td>0</td>\n      <td>0.0000</td>\n      <td>S</td>\n      <td>Second</td>\n      <td>man</td>\n      <td>True</td>\n      <td>NaN</td>\n      <td>Southampton</td>\n      <td>no</td>\n      <td>True</td>\n    </tr>\n  </tbody>\n</table>\n</div>"
     },
     "metadata": {},
     "execution_count": 10
    }
   ],
   "source": [
    "# data load\n",
    "dataset = sns.load_dataset(\"titanic\")\n",
    "dataframe, test_dataframe = sklearn.model_selection.train_test_split(dataset, train_size=0.7, random_state=1)\n",
    "dataframe.head(5)"
   ]
  },
  {
   "cell_type": "code",
   "execution_count": 11,
   "metadata": {},
   "outputs": [
    {
     "output_type": "stream",
     "name": "stdout",
     "text": [
      "category\nobject\n"
     ]
    }
   ],
   "source": [
    "print(dataframe['deck'].dtypes)\n",
    "dataframe = dataframe.astype({\"deck\": str})\n",
    "test_dataframe = test_dataframe.astype({\"deck\": str})\n",
    "print(dataframe['deck'].dtypes)"
   ]
  },
  {
   "cell_type": "code",
   "execution_count": 12,
   "metadata": {
    "colab": {
     "base_uri": "https://localhost:8080/",
     "height": 643
    },
    "id": "rBLQXDX3e52R",
    "outputId": "9583b219-3f54-4440-b39a-465526898d7c",
    "tags": []
   },
   "outputs": [
    {
     "output_type": "execute_result",
     "data": {
      "text/plain": [
       "        sex  pclass   age deck\n",
       "862  female       1  48.0    D\n",
       "223    male       3  28.0    Z\n",
       "84   female       2  17.0    Z\n",
       "680  female       3  28.0    Z\n",
       "535  female       2   7.0    Z\n",
       "623    male       3  21.0    Z\n",
       "148    male       2  36.5    F\n",
       "3    female       1  35.0    C\n",
       "34     male       1  28.0    Z\n",
       "241  female       3  28.0    Z"
      ],
      "text/html": "<div>\n<style scoped>\n    .dataframe tbody tr th:only-of-type {\n        vertical-align: middle;\n    }\n\n    .dataframe tbody tr th {\n        vertical-align: top;\n    }\n\n    .dataframe thead th {\n        text-align: right;\n    }\n</style>\n<table border=\"1\" class=\"dataframe\">\n  <thead>\n    <tr style=\"text-align: right;\">\n      <th></th>\n      <th>sex</th>\n      <th>pclass</th>\n      <th>age</th>\n      <th>deck</th>\n    </tr>\n  </thead>\n  <tbody>\n    <tr>\n      <th>862</th>\n      <td>female</td>\n      <td>1</td>\n      <td>48.0</td>\n      <td>D</td>\n    </tr>\n    <tr>\n      <th>223</th>\n      <td>male</td>\n      <td>3</td>\n      <td>28.0</td>\n      <td>Z</td>\n    </tr>\n    <tr>\n      <th>84</th>\n      <td>female</td>\n      <td>2</td>\n      <td>17.0</td>\n      <td>Z</td>\n    </tr>\n    <tr>\n      <th>680</th>\n      <td>female</td>\n      <td>3</td>\n      <td>28.0</td>\n      <td>Z</td>\n    </tr>\n    <tr>\n      <th>535</th>\n      <td>female</td>\n      <td>2</td>\n      <td>7.0</td>\n      <td>Z</td>\n    </tr>\n    <tr>\n      <th>623</th>\n      <td>male</td>\n      <td>3</td>\n      <td>21.0</td>\n      <td>Z</td>\n    </tr>\n    <tr>\n      <th>148</th>\n      <td>male</td>\n      <td>2</td>\n      <td>36.5</td>\n      <td>F</td>\n    </tr>\n    <tr>\n      <th>3</th>\n      <td>female</td>\n      <td>1</td>\n      <td>35.0</td>\n      <td>C</td>\n    </tr>\n    <tr>\n      <th>34</th>\n      <td>male</td>\n      <td>1</td>\n      <td>28.0</td>\n      <td>Z</td>\n    </tr>\n    <tr>\n      <th>241</th>\n      <td>female</td>\n      <td>3</td>\n      <td>28.0</td>\n      <td>Z</td>\n    </tr>\n  </tbody>\n</table>\n</div>"
     },
     "metadata": {},
     "execution_count": 12
    }
   ],
   "source": [
    "# data processing\n",
    "for i in dataframe.index:\n",
    "    if dataframe['deck'][i] == 'nan':\n",
    "        dataframe['deck'][i] = 'Z'\n",
    "\n",
    "for i in test_dataframe.index:\n",
    "    if test_dataframe['deck'][i] == 'nan':\n",
    "        test_dataframe['deck'][i] = 'Z'\n",
    "\n",
    "train_median = dataframe['age'].median()\n",
    "for i in dataframe.index:\n",
    "    if dataframe['age'][i] != dataframe['age'][i]:\n",
    "        dataframe['age'][i] = train_median\n",
    "\n",
    "train_median = test_dataframe['age'].median()\n",
    "for i in test_dataframe.index:\n",
    "    if test_dataframe['age'][i] != test_dataframe['age'][i]:\n",
    "        test_dataframe['age'][i] = train_median\n",
    "\n",
    "X = dataframe[['sex', 'pclass', 'age', 'deck']]\n",
    "y = dataframe[['alive']]\n",
    "X_ts = test_dataframe[['sex', 'pclass', 'age', 'deck']]\n",
    "y_ts = test_dataframe[['alive']]\n",
    "X_ts.head(10)"
   ]
  },
  {
   "cell_type": "code",
   "execution_count": 13,
   "metadata": {
    "colab": {
     "base_uri": "https://localhost:8080/",
     "height": 243
    },
    "id": "HByq3PZau4yA",
    "outputId": "a965de61-e7c8-4180-935f-9e7d741bbf55"
   },
   "outputs": [
    {
     "output_type": "stream",
     "name": "stdout",
     "text": [
      "Age normalization --> [29.81099518459069, 13.283963797935623]\n"
     ]
    }
   ],
   "source": [
    "# normalization\n",
    "normalization = [X['age'].mean(), X['age'].std()]\n",
    "print(\"Age normalization --> \" + str(normalization))\n",
    "\n",
    "X['age'] = (X['age'] - normalization[0]) / normalization[1]\n",
    "X_ts['age'] = (X_ts['age'] - normalization[0]) / normalization[1]\n",
    "\n",
    "X_dum = pd.get_dummies(X)\n",
    "X_ts_dum = pd.get_dummies(X_ts)"
   ]
  },
  {
   "cell_type": "code",
   "execution_count": 14,
   "metadata": {
    "colab": {
     "base_uri": "https://localhost:8080/"
    },
    "id": "y0mpaCD7F2oU",
    "outputId": "9f0ff756-73d7-44f5-e426-8a499d898eb5"
   },
   "outputs": [],
   "source": [
    "# dummification\n",
    "integer_encoded = label_encoder.fit_transform(y)\n",
    "y = integer_encoded.reshape(len(integer_encoded), 1)\n",
    "\n",
    "integer_encoded_ts = label_encoder.fit_transform(y_ts)\n",
    "y_ts = integer_encoded_ts.reshape(len(integer_encoded_ts), 1)"
   ]
  },
  {
   "source": [
    "## Transfer Learning"
   ],
   "cell_type": "markdown",
   "metadata": {}
  },
  {
   "cell_type": "code",
   "execution_count": 15,
   "metadata": {},
   "outputs": [],
   "source": [
    "# load model and split it\n",
    "loaded_model = load_model(\"titanic_TransfLearn_model\")\n",
    "input_layer = loaded_model.layers[0]\n",
    "output_layers = [layer for layer in loaded_model.layers[1:-1]]\n",
    "models = [Model(inputs=input_layer.output, outputs=output_lay.output) for output_lay in output_layers]\n",
    "features = [model.predict(X_dum) for model in models]\n",
    "test_features = [model.predict(X_ts_dum) for model in models]"
   ]
  },
  {
   "cell_type": "code",
   "execution_count": 16,
   "metadata": {},
   "outputs": [],
   "source": [
    "features_01 = pd.DataFrame(features[0])\n",
    "features_02 = pd.DataFrame(features[1])\n",
    "test_features_01 = pd.DataFrame(test_features[0])\n",
    "test_features_02 = pd.DataFrame(test_features[1])"
   ]
  },
  {
   "cell_type": "code",
   "execution_count": 17,
   "metadata": {},
   "outputs": [
    {
     "output_type": "execute_result",
     "data": {
      "text/plain": [
       "     0         1         2         3         4\n",
       "0  0.0  0.980654  0.000000  0.765917  1.211592\n",
       "1  0.0  1.262967  0.000000  0.308354  0.993355\n",
       "2  0.0  0.000000  0.000000  0.492762  2.618959\n",
       "3  0.0  0.000000  0.000000  0.604887  2.290854\n",
       "4  0.0  0.000000  0.060178  0.176156  1.988248"
      ],
      "text/html": "<div>\n<style scoped>\n    .dataframe tbody tr th:only-of-type {\n        vertical-align: middle;\n    }\n\n    .dataframe tbody tr th {\n        vertical-align: top;\n    }\n\n    .dataframe thead th {\n        text-align: right;\n    }\n</style>\n<table border=\"1\" class=\"dataframe\">\n  <thead>\n    <tr style=\"text-align: right;\">\n      <th></th>\n      <th>0</th>\n      <th>1</th>\n      <th>2</th>\n      <th>3</th>\n      <th>4</th>\n    </tr>\n  </thead>\n  <tbody>\n    <tr>\n      <th>0</th>\n      <td>0.0</td>\n      <td>0.980654</td>\n      <td>0.000000</td>\n      <td>0.765917</td>\n      <td>1.211592</td>\n    </tr>\n    <tr>\n      <th>1</th>\n      <td>0.0</td>\n      <td>1.262967</td>\n      <td>0.000000</td>\n      <td>0.308354</td>\n      <td>0.993355</td>\n    </tr>\n    <tr>\n      <th>2</th>\n      <td>0.0</td>\n      <td>0.000000</td>\n      <td>0.000000</td>\n      <td>0.492762</td>\n      <td>2.618959</td>\n    </tr>\n    <tr>\n      <th>3</th>\n      <td>0.0</td>\n      <td>0.000000</td>\n      <td>0.000000</td>\n      <td>0.604887</td>\n      <td>2.290854</td>\n    </tr>\n    <tr>\n      <th>4</th>\n      <td>0.0</td>\n      <td>0.000000</td>\n      <td>0.060178</td>\n      <td>0.176156</td>\n      <td>1.988248</td>\n    </tr>\n  </tbody>\n</table>\n</div>"
     },
     "metadata": {},
     "execution_count": 17
    }
   ],
   "source": [
    "features_01.head(5)"
   ]
  },
  {
   "cell_type": "code",
   "execution_count": 18,
   "metadata": {},
   "outputs": [
    {
     "output_type": "execute_result",
     "data": {
      "text/plain": [
       "RandomForestClassifier(min_samples_leaf=3, n_estimators=30)"
      ]
     },
     "metadata": {},
     "execution_count": 18
    }
   ],
   "source": [
    "rand_forest_01 = RandomForestClassifier(n_estimators=30, min_samples_leaf=3)\n",
    "rand_forest_01.fit(features_01, y)\n",
    "rand_forest_02 = RandomForestClassifier(n_estimators=30, min_samples_leaf=3)\n",
    "rand_forest_02.fit(features_02, y)"
   ]
  },
  {
   "cell_type": "code",
   "execution_count": 19,
   "metadata": {},
   "outputs": [
    {
     "output_type": "stream",
     "name": "stdout",
     "text": [
      "0.7649253731343284\n0.753731343283582\n"
     ]
    }
   ],
   "source": [
    "print(rand_forest_01.score(test_features_01, y_ts))\n",
    "print(rand_forest_02.score(test_features_02, y_ts))"
   ]
  },
  {
   "cell_type": "code",
   "execution_count": 20,
   "metadata": {},
   "outputs": [],
   "source": [
    "test_y_pred_01 = rand_forest_01.predict(test_features_01)\n",
    "test_y_pred_02 = rand_forest_02.predict(test_features_02)"
   ]
  },
  {
   "cell_type": "code",
   "execution_count": 21,
   "metadata": {},
   "outputs": [
    {
     "output_type": "stream",
     "name": "stdout",
     "text": [
      "Max ROC layer2:\n0.7412048877522024\n\nConfusion matrix layer2:\n[[139  14]\n [ 49  66]]\n---------------------------------------\nMax ROC layer2:\n0.72924126172208\n\nConfusion matrix layer2:\n[[138  15]\n [ 51  64]]\n"
     ]
    }
   ],
   "source": [
    "fpr, tpr, _ = roc_curve(y_ts, test_y_pred_01)\n",
    "print(\"Max ROC layer2:\")\n",
    "print(auc(fpr, tpr))\n",
    "\n",
    "predictions = np.where(test_y_pred_01 > .5, 1, 0)\n",
    "print(\"\\nConfusion matrix layer2:\")\n",
    "print(confusion_matrix(y_true=y_ts, y_pred=predictions))\n",
    "\n",
    "fpr, tpr, _ = roc_curve(y_ts, test_y_pred_02)\n",
    "print(\"---------------------------------------\")\n",
    "print(\"Max ROC layer2:\")\n",
    "print(auc(fpr, tpr))\n",
    "\n",
    "predictions = np.where(test_y_pred_02 > .5, 1, 0)\n",
    "print(\"\\nConfusion matrix layer2:\")\n",
    "print(confusion_matrix(y_true=y_ts, y_pred=predictions))"
   ]
  }
 ],
 "metadata": {
  "colab": {
   "collapsed_sections": [],
   "name": "Te damos la bienvenida a Colaboratory",
   "provenance": [],
   "toc_visible": true
  },
  "kernelspec": {
   "display_name": "Python 3.8.5 64-bit",
   "language": "python",
   "name": "python38564bit59e7ee6943b1470cb3e9b750e457cb20"
  },
  "language_info": {
   "codemirror_mode": {
    "name": "ipython",
    "version": 3
   },
   "file_extension": ".py",
   "mimetype": "text/x-python",
   "name": "python",
   "nbconvert_exporter": "python",
   "pygments_lexer": "ipython3",
   "version": "3.8.5-final"
  }
 },
 "nbformat": 4,
 "nbformat_minor": 4
}